{
 "cells": [
  {
   "cell_type": "markdown",
   "id": "619c0495-0c97-43d4-888c-4de0e0bea4bf",
   "metadata": {},
   "source": [
    "## 03 - Challenge Data Analyst - NeuralWorks \n",
    "\n",
    "Postulante: Ignacio Tapia  \n",
    "Diciembre 2022"
   ]
  },
  {
   "cell_type": "code",
   "execution_count": null,
   "id": "10fc5631-9960-4676-8afb-afa7b897d0dc",
   "metadata": {},
   "outputs": [],
   "source": []
  }
 ],
 "metadata": {
  "kernelspec": {
   "display_name": "Python 3 (ipykernel)",
   "language": "python",
   "name": "python3"
  },
  "language_info": {
   "codemirror_mode": {
    "name": "ipython",
    "version": 3
   },
   "file_extension": ".py",
   "mimetype": "text/x-python",
   "name": "python",
   "nbconvert_exporter": "python",
   "pygments_lexer": "ipython3",
   "version": "3.9.13"
  }
 },
 "nbformat": 4,
 "nbformat_minor": 5
}
