{
 "cells": [
  {
   "cell_type": "markdown",
   "id": "6e3a306b-81f7-4279-8e24-8364a29238b3",
   "metadata": {},
   "source": [
    "## 01 - Exploratory Data Analysis (EDA)\n",
    "Challenge Data Analyst - NeuralWorks  \n",
    "Postulante: Ignacio Tapia  \n",
    "Diciembre 2022"
   ]
  },
  {
   "cell_type": "code",
   "execution_count": 1,
   "id": "bb25f771-fec1-40b0-b4ac-6755a5e9181e",
   "metadata": {},
   "outputs": [],
   "source": [
    "# Importar Librerías Principales\n",
    "import sqlite3\n",
    "import pandas as pd"
   ]
  },
  {
   "cell_type": "code",
   "execution_count": 2,
   "id": "1c935786-0d3b-4898-9a01-0601a350dc74",
   "metadata": {},
   "outputs": [],
   "source": [
    "con = sqlite3.connect('../data/database.sqlite')"
   ]
  },
  {
   "cell_type": "code",
   "execution_count": null,
   "id": "f1249643-7280-468f-98bc-571c4cdfedf3",
   "metadata": {},
   "outputs": [],
   "source": []
  }
 ],
 "metadata": {
  "kernelspec": {
   "display_name": "venv",
   "language": "python",
   "name": "venv"
  },
  "language_info": {
   "codemirror_mode": {
    "name": "ipython",
    "version": 3
   },
   "file_extension": ".py",
   "mimetype": "text/x-python",
   "name": "python",
   "nbconvert_exporter": "python",
   "pygments_lexer": "ipython3",
   "version": "3.9.13"
  }
 },
 "nbformat": 4,
 "nbformat_minor": 5
}
