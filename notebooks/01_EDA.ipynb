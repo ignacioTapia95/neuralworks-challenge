{
 "cells": [
  {
   "cell_type": "markdown",
   "id": "6e3a306b-81f7-4279-8e24-8364a29238b3",
   "metadata": {},
   "source": [
    "## 01 - Exploratory Data Analysis (EDA)\n",
    "Challenge Data Analyst - NeuralWorks  \n",
    "Postulante: Ignacio Tapia  \n",
    "Diciembre 2022"
   ]
  },
  {
   "cell_type": "code",
   "execution_count": 5,
   "id": "c12ac651-1b42-4d6d-a4f5-6463a5893c0e",
   "metadata": {},
   "outputs": [],
   "source": [
    "from zipfile import ZipFile"
   ]
  },
  {
   "cell_type": "code",
   "execution_count": 14,
   "id": "68838b8b-2d49-4fee-8c3d-263951741f55",
   "metadata": {},
   "outputs": [],
   "source": [
    "from zipfile import ZipFile\n",
    "with ZipFile('../data/database.sqlite.zip', 'r') as zObject:\n",
    "    \n",
    "    # Extracting all the members of the zip\n",
    "    zObject.extractall(path='../data/')"
   ]
  },
  {
   "cell_type": "code",
   "execution_count": 6,
   "id": "4b83157b-a371-4e8f-95e5-23f527920179",
   "metadata": {},
   "outputs": [
    {
     "ename": "AttributeError",
     "evalue": "'str' object has no attribute 'namelist'",
     "output_type": "error",
     "traceback": [
      "\u001b[0;31m---------------------------------------------------------------------------\u001b[0m",
      "\u001b[0;31mAttributeError\u001b[0m                            Traceback (most recent call last)",
      "Input \u001b[0;32mIn [6]\u001b[0m, in \u001b[0;36m<cell line: 1>\u001b[0;34m()\u001b[0m\n\u001b[0;32m----> 1\u001b[0m \u001b[43mZipFile\u001b[49m\u001b[38;5;241;43m.\u001b[39;49m\u001b[43mextractall\u001b[49m\u001b[43m(\u001b[49m\u001b[38;5;124;43m'\u001b[39;49m\u001b[38;5;124;43m../data/database.sqlite.zip\u001b[39;49m\u001b[38;5;124;43m'\u001b[39;49m\u001b[43m)\u001b[49m\n",
      "File \u001b[0;32m/Library/Frameworks/Python.framework/Versions/3.9/lib/python3.9/zipfile.py:1634\u001b[0m, in \u001b[0;36mZipFile.extractall\u001b[0;34m(self, path, members, pwd)\u001b[0m\n\u001b[1;32m   1628\u001b[0m \u001b[38;5;124;03m\"\"\"Extract all members from the archive to the current working\u001b[39;00m\n\u001b[1;32m   1629\u001b[0m \u001b[38;5;124;03m   directory. `path' specifies a different directory to extract to.\u001b[39;00m\n\u001b[1;32m   1630\u001b[0m \u001b[38;5;124;03m   `members' is optional and must be a subset of the list returned\u001b[39;00m\n\u001b[1;32m   1631\u001b[0m \u001b[38;5;124;03m   by namelist().\u001b[39;00m\n\u001b[1;32m   1632\u001b[0m \u001b[38;5;124;03m\"\"\"\u001b[39;00m\n\u001b[1;32m   1633\u001b[0m \u001b[38;5;28;01mif\u001b[39;00m members \u001b[38;5;129;01mis\u001b[39;00m \u001b[38;5;28;01mNone\u001b[39;00m:\n\u001b[0;32m-> 1634\u001b[0m     members \u001b[38;5;241m=\u001b[39m \u001b[38;5;28;43mself\u001b[39;49m\u001b[38;5;241;43m.\u001b[39;49m\u001b[43mnamelist\u001b[49m()\n\u001b[1;32m   1636\u001b[0m \u001b[38;5;28;01mif\u001b[39;00m path \u001b[38;5;129;01mis\u001b[39;00m \u001b[38;5;28;01mNone\u001b[39;00m:\n\u001b[1;32m   1637\u001b[0m     path \u001b[38;5;241m=\u001b[39m os\u001b[38;5;241m.\u001b[39mgetcwd()\n",
      "\u001b[0;31mAttributeError\u001b[0m: 'str' object has no attribute 'namelist'"
     ]
    }
   ],
   "source": [
    "ZipFile.extractall('../data/database.sqlite.zip') "
   ]
  },
  {
   "cell_type": "code",
   "execution_count": 1,
   "id": "bb25f771-fec1-40b0-b4ac-6755a5e9181e",
   "metadata": {},
   "outputs": [],
   "source": [
    "# Importar Librerías Principales\n",
    "import sqlite3\n",
    "import pandas as pd"
   ]
  },
  {
   "cell_type": "code",
   "execution_count": 2,
   "id": "1c935786-0d3b-4898-9a01-0601a350dc74",
   "metadata": {},
   "outputs": [],
   "source": [
    "con = sqlite3.connect('../data/database.sqlite')"
   ]
  },
  {
   "cell_type": "code",
   "execution_count": null,
   "id": "f1249643-7280-468f-98bc-571c4cdfedf3",
   "metadata": {},
   "outputs": [],
   "source": []
  }
 ],
 "metadata": {
  "kernelspec": {
   "display_name": "venv",
   "language": "python",
   "name": "venv"
  },
  "language_info": {
   "codemirror_mode": {
    "name": "ipython",
    "version": 3
   },
   "file_extension": ".py",
   "mimetype": "text/x-python",
   "name": "python",
   "nbconvert_exporter": "python",
   "pygments_lexer": "ipython3",
   "version": "3.9.13"
  }
 },
 "nbformat": 4,
 "nbformat_minor": 5
}
